{
 "cells": [
  {
   "cell_type": "code",
   "execution_count": 1,
   "metadata": {},
   "outputs": [],
   "source": [
    "import tensorflow as tf\n",
    "\n",
    "IMG_WIDTH = 128\n",
    "IMG_HEIGHT = 128\n",
    "IMG_CHANNELS = 1\n",
    "\n",
    "\n",
    "#Build the model\n",
    "inputs = tf.keras.layers.Input((IMG_WIDTH, IMG_HEIGHT, IMG_CHANNELS))\n",
    "s = tf.keras.layers.Lambda(lambda x: x/255)(inputs) #making input floating point value\n",
    "\n",
    "#Contraction path\n",
    "c1 = tf.keras.layers.Conv2D(16, (3,3),  activation='relu', kernel_initializer = 'he_normal', padding = 'same')(s)\n",
    "c1 = tf.keras.layers.Dropout(0.1)(c1)\n",
    "c1 = tf.keras.layers.Conv2D(16, (3,3),  activation='relu', kernel_initializer = 'he_normal', padding = 'same')(c1)\n",
    "p1 = tf.keras.layers.MaxPooling2D((2,2))(c1)\n",
    "\n",
    "c2 = tf.keras.layers.Conv2D(32, (3,3),  activation='relu', kernel_initializer = 'he_normal', padding = 'same')(p1)\n",
    "c2 = tf.keras.layers.Dropout(0.1)(c2)\n",
    "c2 = tf.keras.layers.Conv2D(32, (3,3),  activation='relu', kernel_initializer = 'he_normal', padding = 'same')(c2)\n",
    "p2 = tf.keras.layers.MaxPooling2D((2,2))(c2)\n",
    "\n",
    "c3 = tf.keras.layers.Conv2D(64, (3,3),  activation='relu', kernel_initializer = 'he_normal', padding = 'same')(p2)\n",
    "c3 = tf.keras.layers.Dropout(0.2)(c3)\n",
    "c3 = tf.keras.layers.Conv2D(64, (3,3),  activation='relu', kernel_initializer = 'he_normal', padding = 'same')(c3)\n",
    "p3 = tf.keras.layers.MaxPooling2D((2,2))(c3)\n",
    "\n",
    "c4 = tf.keras.layers.Conv2D(128, (3,3),  activation='relu', kernel_initializer = 'he_normal', padding = 'same')(p3)\n",
    "c4 = tf.keras.layers.Dropout(0.2)(c4)\n",
    "c4 = tf.keras.layers.Conv2D(128, (3,3),  activation='relu', kernel_initializer = 'he_normal', padding = 'same')(c4)\n",
    "p4 = tf.keras.layers.MaxPooling2D(pool_size = (2,2))(c4)\n",
    "\n",
    "c5 = tf.keras.layers.Conv2D(256, (3,3),  activation='relu', kernel_initializer = 'he_normal', padding = 'same')(p4)\n",
    "c5 = tf.keras.layers.Dropout(0.3)(c5)\n",
    "c5 = tf.keras.layers.Conv2D(256, (3,3),  activation='relu', kernel_initializer = 'he_normal', padding = 'same')(c5)\n",
    "\n",
    "#Expansive path\n",
    "u6 = tf.keras.layers.Conv2DTranspose(128, (2,2), strides = (2,2), padding='same')(c5)\n",
    "u6 = tf.keras.layers.concatenate([u6, c4])\n",
    "c6 = tf.keras.layers.Conv2D(128, (3,3), activation = 'relu',kernel_initializer= 'he_normal', padding = 'same')(u6)\n",
    "c6 = tf.keras.layers.Dropout(0.2)(c6)\n",
    "c6 = tf.keras.layers.Conv2D(128, (3,3),  activation='relu', kernel_initializer = 'he_normal', padding = 'same')(c5)\n"
   ]
  },
  {
   "cell_type": "code",
   "execution_count": null,
   "metadata": {},
   "outputs": [],
   "source": []
  }
 ],
 "metadata": {
  "kernelspec": {
   "display_name": "Python 3",
   "language": "python",
   "name": "python3"
  },
  "language_info": {
   "codemirror_mode": {
    "name": "ipython",
    "version": 3
   },
   "file_extension": ".py",
   "mimetype": "text/x-python",
   "name": "python",
   "nbconvert_exporter": "python",
   "pygments_lexer": "ipython3",
   "version": "3.8.3"
  }
 },
 "nbformat": 4,
 "nbformat_minor": 4
}
